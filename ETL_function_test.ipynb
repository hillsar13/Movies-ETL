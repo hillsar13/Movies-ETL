{
 "cells": [
  {
   "cell_type": "code",
   "execution_count": null,
   "id": "d049b800",
   "metadata": {},
   "outputs": [],
   "source": [
    "import json\n",
    "import pandas as pd\n",
    "import numpy as np\n",
    "\n",
    "import re\n",
    "\n",
    "from sqlalchemy import create_engine\n",
    "import psycopg2\n",
    "\n",
    "# from config import db_password\n",
    "\n",
    "import time\n"
   ]
  },
  {
   "cell_type": "code",
   "execution_count": null,
   "id": "db642bcd",
   "metadata": {},
   "outputs": [],
   "source": [
    "# 1. Create a function that takes in three arguments;\n",
    "# Wikipedia data, Kaggle metadata, and MovieLens rating data (from Kaggle)\n",
    "\n",
    "def challenge_function(wiki_data, kaggle_data, rating_data):"
   ]
  },
  {
   "cell_type": "code",
   "execution_count": null,
   "id": "a1b5f33c",
   "metadata": {},
   "outputs": [],
   "source": [
    "# 2. Read in the kaggle metadata and MovieLens ratings CSV files as Pandas DataFrames.\n",
    "kaggle_df = pd.read_csv(/Users/sarahhill/Desktop/MasterFolder/Movies-ETL/movies_metadata.csv)\n",
    "ratings_df = pd.read_csv(/Users/sarahhill/Desktop/MasterFolder/Movies-ETL/ratings.csv)"
   ]
  },
  {
   "cell_type": "code",
   "execution_count": null,
   "id": "e6c804fb",
   "metadata": {},
   "outputs": [],
   "source": [
    "    # 3. Open the read the Wikipedia data JSON file.\n",
    "file_dir = '/Users/sarahhill/Desktop/MasterFolder/Movies-ETL/'\n",
    "with open(f'{file_dir}/wikipedia-movies.json', mode='r') as file:\n",
    "    wiki_movies_raw = json.load(file)"
   ]
  },
  {
   "cell_type": "code",
   "execution_count": null,
   "id": "5360d0e1",
   "metadata": {},
   "outputs": [],
   "source": [
    "    # 4. Read in the raw wiki movie data as a Pandas DataFrame.\n",
    "    wifi_metadata = pd.read_csv(f'{file_dir}movies_metadata.csv', low_memory=False)\n",
    "    "
   ]
  },
  {
   "cell_type": "code",
   "execution_count": null,
   "id": "e357837f",
   "metadata": {},
   "outputs": [],
   "source": [
    "    # 5. Return the three DataFrames\n",
    "    return wiki_movies_df, kaggle_metadata, ratings"
   ]
  },
  {
   "cell_type": "code",
   "execution_count": null,
   "id": "33de5607",
   "metadata": {},
   "outputs": [],
   "source": [
    "# 6 Create the path to your file directory and variables for the three files. \n",
    "file_dir = \n",
    "# Wikipedia data\n",
    "wiki_file = f'{file_dir}/wikipedia_movies.json'\n",
    "# Kaggle metadata\n",
    "kaggle_file = f'{file_dir}/movies_metadata.csv'\n",
    "# MovieLens rating data.\n",
    "ratings_file = f'{file_dir}/ratings.csv'\n",
    "\n",
    "# 7. Set the three variables in Step 6 equal to the function created in Step 1.\n",
    "wiki_file, kaggle_file, ratings_file = extract_transform_load()"
   ]
  }
 ],
 "metadata": {
  "kernelspec": {
   "display_name": "PythonData",
   "language": "python",
   "name": "pythondata"
  },
  "language_info": {
   "codemirror_mode": {
    "name": "ipython",
    "version": 3
   },
   "file_extension": ".py",
   "mimetype": "text/x-python",
   "name": "python",
   "nbconvert_exporter": "python",
   "pygments_lexer": "ipython3",
   "version": "3.9.7"
  }
 },
 "nbformat": 4,
 "nbformat_minor": 5
}
